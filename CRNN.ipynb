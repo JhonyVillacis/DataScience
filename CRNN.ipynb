{
  "nbformat": 4,
  "nbformat_minor": 0,
  "metadata": {
    "colab": {
      "name": "CRNN.ipynb",
      "provenance": [],
      "authorship_tag": "ABX9TyPzptb7NZ6VkJDvcqjqlefT",
      "include_colab_link": true
    },
    "kernelspec": {
      "name": "python3",
      "display_name": "Python 3"
    },
    "accelerator": "TPU"
  },
  "cells": [
    {
      "cell_type": "markdown",
      "metadata": {
        "id": "view-in-github",
        "colab_type": "text"
      },
      "source": [
        "<a href=\"https://colab.research.google.com/github/JhonyVillacis/DataScience/blob/main/CRNN.ipynb\" target=\"_parent\"><img src=\"https://colab.research.google.com/assets/colab-badge.svg\" alt=\"Open In Colab\"/></a>"
      ]
    },
    {
      "cell_type": "markdown",
      "metadata": {
        "id": "D5O23MtG0X3C"
      },
      "source": [
        "**REDES NEURONALES CONVOLUCIONALES**\n"
      ]
    },
    {
      "cell_type": "code",
      "metadata": {
        "id": "gGWbBnRy0MG_"
      },
      "source": [
        "import numpy as np\n",
        "import pandas as pd\n",
        "import tensorflow as tf\n",
        "from tensorflow.keras.models import Sequential\n",
        "from tensorflow.keras import layers\n",
        "from tensorflow.keras.utils import to_categorical\n",
        "import matplotlib.pyplot as plt"
      ],
      "execution_count": 7,
      "outputs": []
    },
    {
      "cell_type": "markdown",
      "metadata": {
        "id": "skTgUM5s1NWz"
      },
      "source": [
        "Comprobar version de Librerias"
      ]
    },
    {
      "cell_type": "code",
      "metadata": {
        "colab": {
          "base_uri": "https://localhost:8080/"
        },
        "id": "896TE6j41XrH",
        "outputId": "3536a6b0-9810-4417-caec-cd990b1c8741"
      },
      "source": [
        "print(\"Versión tf:\",tf.__version__)"
      ],
      "execution_count": 9,
      "outputs": [
        {
          "output_type": "stream",
          "text": [
            "Versión tf: 2.3.0\n"
          ],
          "name": "stdout"
        }
      ]
    },
    {
      "cell_type": "code",
      "metadata": {
        "id": "eDxi9pV21d2L"
      },
      "source": [
        "# Importar MNIST dataset\n",
        "from tensorflow.keras.datasets import mnist"
      ],
      "execution_count": 8,
      "outputs": []
    },
    {
      "cell_type": "code",
      "metadata": {
        "colab": {
          "base_uri": "https://localhost:8080/"
        },
        "id": "0JJ5hJkA1zJR",
        "outputId": "af8e4387-8562-4ab5-8030-cb89c3a8fc0d"
      },
      "source": [
        "#Instancia para descargar dataset\n",
        "(train_images, train_labels), (test_images, test_labels) = mnist.load_data()\n",
        "\n",
        "#Tratamiento y escalamiento de imágenes entrenamiento\n",
        "train_images = train_images.reshape((60000, 28, 28, 1))\n",
        "train_images = train_images.astype('float32') / 255\n",
        "\n",
        "#Tratamiento y escalamiento de imágenes prueba\n",
        "test_images  = test_images.reshape((10000, 28, 28, 1))\n",
        "test_images  = test_images.astype('float32') / 255\n",
        "\n",
        "#Tratamiento variable objetivo\n",
        "train_labels = to_categorical(train_labels)\n",
        "test_labels  = to_categorical(test_labels)"
      ],
      "execution_count": 10,
      "outputs": [
        {
          "output_type": "stream",
          "text": [
            "Downloading data from https://storage.googleapis.com/tensorflow/tf-keras-datasets/mnist.npz\n",
            "11493376/11490434 [==============================] - 0s 0us/step\n"
          ],
          "name": "stdout"
        }
      ]
    },
    {
      "cell_type": "code",
      "metadata": {
        "colab": {
          "base_uri": "https://localhost:8080/"
        },
        "id": "tKWqejbS17lY",
        "outputId": "25fe7a5c-e169-4913-9927-e55be2de158e"
      },
      "source": [
        "test_labels"
      ],
      "execution_count": 11,
      "outputs": [
        {
          "output_type": "execute_result",
          "data": {
            "text/plain": [
              "array([[0., 0., 0., ..., 1., 0., 0.],\n",
              "       [0., 0., 1., ..., 0., 0., 0.],\n",
              "       [0., 1., 0., ..., 0., 0., 0.],\n",
              "       ...,\n",
              "       [0., 0., 0., ..., 0., 0., 0.],\n",
              "       [0., 0., 0., ..., 0., 0., 0.],\n",
              "       [0., 0., 0., ..., 0., 0., 0.]], dtype=float32)"
            ]
          },
          "metadata": {
            "tags": []
          },
          "execution_count": 11
        }
      ]
    },
    {
      "cell_type": "markdown",
      "metadata": {
        "id": "RNS_VsJa1-CL"
      },
      "source": [
        "Visualizacion de un Ejemplo"
      ]
    },
    {
      "cell_type": "code",
      "metadata": {
        "colab": {
          "base_uri": "https://localhost:8080/",
          "height": 265
        },
        "id": "ORYBEb8E2JfK",
        "outputId": "8a573376-3337-4a19-9373-3a26223a8c53"
      },
      "source": [
        "plt.imshow(train_images[100,:,:,0], cmap='gray')\n",
        "plt.show()\n",
        "display()"
      ],
      "execution_count": 12,
      "outputs": [
        {
          "output_type": "display_data",
          "data": {
            "image/png": "[encoded data removed]",
            "text/plain": [
              "<Figure size 432x288 with 1 Axes>"
            ]
          },
          "metadata": {
            "tags": [],
            "needs_background": "light"
          }
        }
      ]
    },
    {
      "cell_type": "code",
      "metadata": {
        "colab": {
          "base_uri": "https://localhost:8080/"
        },
        "id": "FPj2apqt2opD",
        "outputId": "eb13b66a-c39a-446a-cf4f-19d5d2550f02"
      },
      "source": [
        "# Crear un modelo\n",
        "model = Sequential()\n",
        "# Añadir capas Conv2D y MaxPooling2D\n",
        "\n",
        "# Añade una capa de convolución 2D, con 32 filtros. Cada filtro es de 3x3\n",
        "# se aplica una activación RELU a la salida y el tamaño de la entrada es de\n",
        "# 28x28x1 es decir 28 de altura, 28 de ancho y 1 canal (MNIST es escalas de grises)\n",
        "model.add(layers.Conv2D(32, (3, 3), activation='relu', input_shape=(28, 28, 1)))\n",
        "\n",
        "\n",
        "# Se hace Max Pooling reduciendo a la mitad la dimensión espacial\n",
        "model.add(layers.MaxPooling2D((2, 2)))\n",
        "\n",
        "\n",
        "# Añade una capa de convolución 2D, con 64 filtros. Cada filtro es de 3x3\n",
        "# se aplica una activación RELU a la salida\n",
        "model.add(layers.Conv2D(64, (3, 3), activation='relu'))\n",
        "\n",
        "\n",
        "# Se hace Max Pooling reduciendo a la mitad la dimensión espacial\n",
        "model.add(layers.MaxPooling2D((2, 2)))\n",
        "\n",
        "\n",
        "# Añade una capa de convolución 2D, con 64 filtros. Cada filtro es de 3x3\n",
        "# se aplica una activación RELU a la salida\n",
        "model.add(layers.Conv2D(64, (3, 3), activation='relu'))\n",
        "\n",
        "\n",
        "# Para continuar con clasificación multi-clase hay que utilizar capas Dense\n",
        "# Para esto los datos debe ser convertidos a una sola dimensión usando la capa Flatten()\n",
        "model.add(layers.Flatten())\n",
        "model.add(layers.Dense(64, activation='relu'))\n",
        "\n",
        "\n",
        "# La capa final corresponde a la salida. Una por cada clase\n",
        "# La activación Softmax permite calcular la probabilidad de cada clase (digitos del 0 al 9)\n",
        "model.add(layers.Dense(10, activation='softmax'))\n",
        "\n",
        "\n",
        "# Vemos información sumaria del modelo\n",
        "model.summary()"
      ],
      "execution_count": 13,
      "outputs": [
        {
          "output_type": "stream",
          "text": [
            "Model: \"sequential_1\"\n",
            "_________________________________________________________________\n",
            "Layer (type)                 Output Shape              Param #   \n",
            "=================================================================\n",
            "conv2d_3 (Conv2D)            (None, 26, 26, 32)        320       \n",
            "_________________________________________________________________\n",
            "max_pooling2d_2 (MaxPooling2 (None, 13, 13, 32)        0         \n",
            "_________________________________________________________________\n",
            "conv2d_4 (Conv2D)            (None, 11, 11, 64)        18496     \n",
            "_________________________________________________________________\n",
            "max_pooling2d_3 (MaxPooling2 (None, 5, 5, 64)          0         \n",
            "_________________________________________________________________\n",
            "conv2d_5 (Conv2D)            (None, 3, 3, 64)          36928     \n",
            "_________________________________________________________________\n",
            "flatten_1 (Flatten)          (None, 576)               0         \n",
            "_________________________________________________________________\n",
            "dense_2 (Dense)              (None, 64)                36928     \n",
            "_________________________________________________________________\n",
            "dense_3 (Dense)              (None, 10)                650       \n",
            "=================================================================\n",
            "Total params: 93,322\n",
            "Trainable params: 93,322\n",
            "Non-trainable params: 0\n",
            "_________________________________________________________________\n"
          ],
          "name": "stdout"
        }
      ]
    },
    {
      "cell_type": "code",
      "metadata": {
        "colab": {
          "base_uri": "https://localhost:8080/"
        },
        "id": "vyDc9Bzj3Bkj",
        "outputId": "e0dd977f-b3a8-4b8c-8337-a358eb97c285"
      },
      "source": [
        "train_labels.shape"
      ],
      "execution_count": 14,
      "outputs": [
        {
          "output_type": "execute_result",
          "data": {
            "text/plain": [
              "(60000, 10)"
            ]
          },
          "metadata": {
            "tags": []
          },
          "execution_count": 14
        }
      ]
    },
    {
      "cell_type": "code",
      "metadata": {
        "colab": {
          "base_uri": "https://localhost:8080/"
        },
        "id": "Z6-W0tOW3Rtg",
        "outputId": "19ed228f-0d63-4bfc-990f-81748122b4b2"
      },
      "source": [
        "train_images.shape"
      ],
      "execution_count": 15,
      "outputs": [
        {
          "output_type": "execute_result",
          "data": {
            "text/plain": [
              "(60000, 28, 28, 1)"
            ]
          },
          "metadata": {
            "tags": []
          },
          "execution_count": 15
        }
      ]
    },
    {
      "cell_type": "code",
      "metadata": {
        "colab": {
          "base_uri": "https://localhost:8080/"
        },
        "id": "Z6IN0Ol03eGt",
        "outputId": "48980a2f-c1ec-4ab1-c67b-33d47ebe3a56"
      },
      "source": [
        "# Compilamos el modelo especificando el algoritmo de optimización, la función de pérdida y las métricas\n",
        "model.compile(optimizer='adam', loss='categorical_crossentropy', metrics=['accuracy'])\n",
        "\n",
        "# Entrenamiento. Esto tomará algún tiempo\n",
        "model.fit(train_images, train_labels, epochs=5, batch_size=64)"
      ],
      "execution_count": 16,
      "outputs": [
        {
          "output_type": "stream",
          "text": [
            "Epoch 1/5\n",
            "938/938 [==============================] - 50s 53ms/step - loss: 0.1897 - accuracy: 0.9423\n",
            "Epoch 2/5\n",
            "938/938 [==============================] - 50s 54ms/step - loss: 0.0533 - accuracy: 0.9834\n",
            "Epoch 3/5\n",
            "938/938 [==============================] - 50s 53ms/step - loss: 0.0377 - accuracy: 0.9880\n",
            "Epoch 4/5\n",
            "938/938 [==============================] - 50s 53ms/step - loss: 0.0304 - accuracy: 0.9906\n",
            "Epoch 5/5\n",
            "938/938 [==============================] - 50s 53ms/step - loss: 0.0238 - accuracy: 0.9926\n"
          ],
          "name": "stdout"
        },
        {
          "output_type": "execute_result",
          "data": {
            "text/plain": [
              "<tensorflow.python.keras.callbacks.History at 0x7f8f4c2646a0>"
            ]
          },
          "metadata": {
            "tags": []
          },
          "execution_count": 16
        }
      ]
    },
    {
      "cell_type": "markdown",
      "metadata": {
        "id": "2TIGhA-B1Re1"
      },
      "source": [
        ""
      ]
    },
    {
      "cell_type": "code",
      "metadata": {
        "colab": {
          "base_uri": "https://localhost:8080/"
        },
        "id": "7vcWNbLM42b6",
        "outputId": "94398c9f-7a6a-4e49-e89b-5596d2c85166"
      },
      "source": [
        "# Finalmente evaluamos en la data de testing\n",
        "test_loss, test_acc = model.evaluate(test_images, test_labels)\n",
        "print('Pérdida (testing) = {:.2f}, accuracy (testing) = {:.2f}'.format(test_loss, test_acc))"
      ],
      "execution_count": 17,
      "outputs": [
        {
          "output_type": "stream",
          "text": [
            "313/313 [==============================] - 3s 10ms/step - loss: 0.0302 - accuracy: 0.9913\n",
            "Pérdida (testing) = 0.03, accuracy (testing) = 0.99\n"
          ],
          "name": "stdout"
        }
      ]
    },
    {
      "cell_type": "markdown",
      "metadata": {
        "id": "YSEBMg6k4-eh"
      },
      "source": [
        "***En Conclusion no existe Overfiting y hay un performance muy bueno del modelo***"
      ]
    }
  ]
}